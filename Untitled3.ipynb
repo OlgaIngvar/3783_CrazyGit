{
  "nbformat": 4,
  "nbformat_minor": 0,
  "metadata": {
    "colab": {
      "provenance": [],
      "authorship_tag": "ABX9TyMUNdxioY7dppQeqzlle5Hs",
      "include_colab_link": true
    },
    "kernelspec": {
      "name": "python3",
      "display_name": "Python 3"
    },
    "language_info": {
      "name": "python"
    }
  },
  "cells": [
    {
      "cell_type": "markdown",
      "metadata": {
        "id": "view-in-github",
        "colab_type": "text"
      },
      "source": [
        "<a href=\"https://colab.research.google.com/github/OlgaIngvar/3783_CrazyGit/blob/main/Untitled3.ipynb\" target=\"_parent\"><img src=\"https://colab.research.google.com/assets/colab-badge.svg\" alt=\"Open In Colab\"/></a>"
      ]
    },
    {
      "cell_type": "code",
      "execution_count": null,
      "metadata": {
        "id": "OlKeDaqItj8u"
      },
      "outputs": [],
      "source": [
        "import pandas as pd\n",
        "df = pd.read_csv('sample_data/california_housing_train.csv')\n",
        "     \n",
        "\n",
        "df[df['population']<501]['median_house_value'].agg(['mean'])\n",
        "     \n",
        "mean    206799.951402\n",
        "Name: median_house_value, dtype: float64\n",
        "\n",
        "df[df['population']==df['population'].min()]['households'].agg(['max'])\n",
        "     \n",
        "max    4.0\n",
        "Name: households, dtype: float64"
      ]
    }
  ]
}